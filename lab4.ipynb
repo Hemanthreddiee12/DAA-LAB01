{
 "cells": [
  {
   "cell_type": "markdown",
   "metadata": {},
   "source": [
    "Question 1\n",
    "Solve the fractional knapsack problem for the given set of N items with benefit-weight \n",
    "pairs and sack capacity of W. Print the optimal solution."
   ]
  },
  {
   "cell_type": "code",
   "execution_count": 3,
   "metadata": {},
   "outputs": [
    {
     "name": "stdout",
     "output_type": "stream",
     "text": [
      "Optimal solution:\n",
      "Item1 - Weight: 10 - Benefit: 160\n",
      "Item2 - Weight: 20 - Benefit: 260\n",
      "Item3 - Weight: 20 - Benefit: 186.66666666666666\n",
      "Total value of items in the knapsack: 606.6666666666666\n"
     ]
    }
   ],
   "source": [
    "def fractional_knapsack(items, capacity):\n",
    "    for item in items:\n",
    "        item['ratio'] = item['benefit'] / item['weight']\n",
    "    \n",
    "    items.sort(key=lambda x: x['ratio'], reverse=True)\n",
    "    \n",
    "    total_value = 0\n",
    "    knapsack = []\n",
    "    \n",
    "    for item in items:\n",
    "        if capacity >= item['weight']:\n",
    "            # Take the whole item\n",
    "            knapsack.append(item)\n",
    "            total_value += item['benefit']\n",
    "            capacity -= item['weight']\n",
    "        else:\n",
    "            # Take a fraction of the item\n",
    "            fraction = capacity / item['weight']\n",
    "            knapsack.append({'name': item['name'], 'weight': capacity, 'benefit': fraction * item['benefit']})\n",
    "            total_value += fraction * item['benefit']\n",
    "            break\n",
    "    \n",
    "    return knapsack, total_value\n",
    "\n",
    "items = [\n",
    "    {'name': 'Item1', 'weight': 10, 'benefit': 160},\n",
    "    {'name': 'Item2', 'weight': 20, 'benefit': 260},\n",
    "    {'name': 'Item3', 'weight': 30, 'benefit': 280}\n",
    "]\n",
    "capacity = 50\n",
    "optimal_solution, total_value = fractional_knapsack(items, capacity)\n",
    "print(\"Optimal solution:\")\n",
    "for item in optimal_solution:\n",
    "    print( item['name'], \"- Weight:\", item['weight'], \"- Benefit:\", item['benefit'])\n",
    "print(\"Total value of items in the knapsack:\", total_value)\n"
   ]
  },
  {
   "cell_type": "markdown",
   "metadata": {},
   "source": [
    "Question 2\n",
    "Given an array of N integer, we have to maximize the sum of arr[i] * i, where i is the index \n",
    "of the element (i = 0, 1, 2, ..., N). We can rearrange the position of the integer in the array \n",
    "to maximize the sum."
   ]
  },
  {
   "cell_type": "code",
   "execution_count": 4,
   "metadata": {},
   "outputs": [
    {
     "name": "stdout",
     "output_type": "stream",
     "text": [
      "Maximum sum of products: 40\n",
      "Products (number * index): [(0, 0), (2, 1), (3, 2), (4, 3), (5, 4)]\n"
     ]
    }
   ],
   "source": [
    "def maximize_sum_with_product(arr):\n",
    "    arr.sort()\n",
    "    \n",
    "    max_sum = 0\n",
    "    product_list = []\n",
    "    n = len(arr)\n",
    "    \n",
    "    for i in range(n):\n",
    "        product = arr[i] * i\n",
    "        product_list.append((arr[i], i))\n",
    "        max_sum += product\n",
    "    \n",
    "    return max_sum, product_list\n",
    "\n",
    "# Example usage\n",
    "arr = [2, 5, 3, 4, 0]\n",
    "max_sum, product_list = maximize_sum_with_product(arr)\n",
    "print(\"Maximum sum of products:\", max_sum)\n",
    "print(\"Products Pairs:\", product_list)\n"
   ]
  },
  {
   "cell_type": "markdown",
   "metadata": {},
   "source": [
    "Question 3\n",
    "Given two arrays array_One[] and array_Two[] of same size N. We need to first rearrange \n",
    "the arrays such that the sum of the product of pairs (1 element from each) is minimum. That \n",
    "is SUM (A[i] * B[i]) for all i is minimum"
   ]
  },
  {
   "cell_type": "code",
   "execution_count": 6,
   "metadata": {},
   "outputs": [
    {
     "name": "stdout",
     "output_type": "stream",
     "text": [
      "Minimum sum of products: 104\n",
      "Product pairs: [(1, 17), (4, 9), (5, 6), (7, 3)]\n"
     ]
    }
   ],
   "source": [
    "def minimize_sum_of_products_with_pairs(array_one, array_two):\n",
    "    array_one.sort()\n",
    "    array_two.sort(reverse=True)  \n",
    "    \n",
    "    min_sum = 0\n",
    "    product_pairs = []\n",
    "    n = len(array_one)\n",
    "    \n",
    "    for i in range(n):\n",
    "        product = array_one[i] * array_two[i]\n",
    "        min_sum += product\n",
    "        product_pairs.append((array_one[i], array_two[i]))\n",
    "        \n",
    "    return min_sum, product_pairs\n",
    "\n",
    "# Example usage\n",
    "array_one = [7, 5, 1, 4]\n",
    "array_two = [6, 17, 9, 3]\n",
    "min_sum, product_pairs = minimize_sum_of_products_with_pairs(array_one, array_two)\n",
    "print(\"Minimum sum of products:\", min_sum)\n",
    "print(\"Product pairs:\", product_pairs)\n"
   ]
  }
 ],
 "metadata": {
  "kernelspec": {
   "display_name": "Python 3",
   "language": "python",
   "name": "python3"
  },
  "language_info": {
   "codemirror_mode": {
    "name": "ipython",
    "version": 3
   },
   "file_extension": ".py",
   "mimetype": "text/x-python",
   "name": "python",
   "nbconvert_exporter": "python",
   "pygments_lexer": "ipython3",
   "version": "3.11.5"
  }
 },
 "nbformat": 4,
 "nbformat_minor": 2
}
